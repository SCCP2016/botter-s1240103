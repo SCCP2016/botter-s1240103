{
 "cells": [
  {
   "cell_type": "markdown",
   "metadata": {},
   "source": [
    "## §3. DOMを扱おう"
   ]
  },
  {
   "cell_type": "markdown",
   "metadata": {},
   "source": [
    "### §3-1. DOMとは"
   ]
  },
  {
   "cell_type": "markdown",
   "metadata": {},
   "source": [
    "**DOM**(Document Object Model)とは、各要素に動的にアクセスする仕組み(API)のことです。Web上で実行できるJavaScriptなど言語からDOMを扱い、属性の値や要素の内容を取得・変更することが出来ます。"
   ]
  },
  {
   "cell_type": "markdown",
   "metadata": {},
   "source": [
    "HTMLは、以下のようなツリー構造をなしています。これを**DOMツリー**といいます。DOMツリーにある<span style=\"background-color: #F5F5F5; padding: 2px; margin: 2px; border-radius: 2px; border: 1px solid black;\">&lt;html&gt;</span>要素やテキストなどの各々は、すべて**ノード**と呼ばれます。ノードは要素より広い概念で、コメントや段落中のテキストもノードと呼ばれます。ノードには親子関係があり、<span style=\"background-color: #F5F5F5; padding: 2px; margin: 2px; border-radius: 2px; border: 1px solid black;\">&lt;body&gt;</span>は、<span style=\"background-color: #F5F5F5; padding: 2px; margin: 2px; border-radius: 2px; border: 1px solid black;\">&lt;p&gt;</span>の親ノードであり、反対に<span style=\"background-color: #F5F5F5; padding: 2px; margin: 2px; border-radius: 2px; border: 1px solid black;\">&lt;p&gt;</span>は<span style=\"background-color: #F5F5F5; padding: 2px; margin: 2px; border-radius: 2px; border: 1px solid black;\">&lt;body&gt;</span>の子ノードです。\n",
    "<pre>\n",
    "&lt;html&gt;\n",
    "├── &lt;head&gt;\n",
    "│   ├── &lt;meta&gt;\n",
    "│   └── &lt;title&gt;\n",
    "└── &lt;body&gt;\n",
    "    └── &lt;p&gt;\n",
    "        └── テキスト\n",
    "</pre>"
   ]
  },
  {
   "cell_type": "markdown",
   "metadata": {},
   "source": [
    "### §3-2. DOM API"
   ]
  },
  {
   "cell_type": "markdown",
   "metadata": {},
   "source": [
    "DOMはJavaScriptにノードを扱うAPIを提供しています。具体的には、子ノードのHTML構文を取得・設定するプロパティや、要素を生成、あるいは要素を特定するメソッドなどを提供しています。次のようなAPIが存在します。"
   ]
  },
  {
   "cell_type": "markdown",
   "metadata": {},
   "source": [
    "----\n",
    "#### element.innerHTML"
   ]
  },
  {
   "cell_type": "markdown",
   "metadata": {},
   "source": [
    "##### 概要"
   ]
  },
  {
   "cell_type": "markdown",
   "metadata": {},
   "source": [
    "子ノードのHTML構文を取得・設定するためのプロパティです。"
   ]
  },
  {
   "cell_type": "markdown",
   "metadata": {},
   "source": [
    "##### 構文"
   ]
  },
  {
   "cell_type": "markdown",
   "metadata": {},
   "source": [
    "```javascript\n",
    "// elementの子ノードのすべてのノードを読み取り、文字列としてHTMLのコードを受け取る\n",
    "var content = element.innerHTML;\n",
    "// HTMLのコードを解析して、elementの子ノードに設定する\n",
    "element.innerHTML = content;\n",
    "```"
   ]
  },
  {
   "cell_type": "markdown",
   "metadata": {},
   "source": [
    "----\n",
    "#### document.createElement()"
   ]
  },
  {
   "cell_type": "markdown",
   "metadata": {},
   "source": [
    "##### 概要"
   ]
  },
  {
   "cell_type": "markdown",
   "metadata": {},
   "source": [
    "指定したノードを生成します。"
   ]
  },
  {
   "cell_type": "markdown",
   "metadata": {},
   "source": [
    "##### 構文"
   ]
  },
  {
   "cell_type": "markdown",
   "metadata": {},
   "source": [
    "```javascript\n",
    "// <p>要素ノードを生成し、paragraphに代入する\n",
    "var paragraph = document.createElement(\"p\");\n",
    "```"
   ]
  },
  {
   "cell_type": "markdown",
   "metadata": {},
   "source": [
    "----\n",
    "#### element.appendChild()"
   ]
  },
  {
   "cell_type": "markdown",
   "metadata": {},
   "source": [
    "##### 概要"
   ]
  },
  {
   "cell_type": "markdown",
   "metadata": {},
   "source": [
    "子ノードに、指定したノードを追加します。"
   ]
  },
  {
   "cell_type": "markdown",
   "metadata": {},
   "source": [
    "##### 構文"
   ]
  },
  {
   "cell_type": "markdown",
   "metadata": {},
   "source": [
    "```javascript\n",
    "// elementの子ノードとして、childNodeを追加する\n",
    "element.appendChild(childNode);\n",
    "```"
   ]
  },
  {
   "cell_type": "markdown",
   "metadata": {},
   "source": [
    "----\n",
    "#### document.getElementById()"
   ]
  },
  {
   "cell_type": "markdown",
   "metadata": {},
   "source": [
    "##### 概要"
   ]
  },
  {
   "cell_type": "markdown",
   "metadata": {},
   "source": [
    "HTML文書全体から、指定された識別子(ID)をもつ要素を取得します。"
   ]
  },
  {
   "cell_type": "markdown",
   "metadata": {},
   "source": [
    "##### 構文"
   ]
  },
  {
   "cell_type": "markdown",
   "metadata": {},
   "source": [
    "```javascript\n",
    "// 識別子に\"myID\"と指定している要素を取得する。\n",
    "var element = document.getElementById(\"myID\");\n",
    "```"
   ]
  },
  {
   "cell_type": "markdown",
   "metadata": {},
   "source": [
    "----\n",
    "#### element.getElementsByClassName()"
   ]
  },
  {
   "cell_type": "markdown",
   "metadata": {},
   "source": [
    "##### 概要"
   ]
  },
  {
   "cell_type": "markdown",
   "metadata": {},
   "source": [
    "指定されたクラス名をもつ要素をすべて取得します。"
   ]
  },
  {
   "cell_type": "markdown",
   "metadata": {},
   "source": [
    "##### 構文"
   ]
  },
  {
   "cell_type": "markdown",
   "metadata": {},
   "source": [
    "```javascript\n",
    "// HTML文書全体から、クラス名に\"example\"と指定している全ての要素を取得する\n",
    "var examples = document.getElementsByClassName(\"example\");\n",
    "// クラス名に\"example\"と\"important\"の両方を指定している全ての要素を取得する\n",
    "var importantExamples = document.getElementsByClassName(\"example important\");\n",
    "```"
   ]
  },
  {
   "cell_type": "markdown",
   "metadata": {},
   "source": [
    "----\n",
    "#### document.createTextNode()"
   ]
  },
  {
   "cell_type": "markdown",
   "metadata": {},
   "source": [
    "##### 概要"
   ]
  },
  {
   "cell_type": "markdown",
   "metadata": {},
   "source": [
    "指定されたテキストノードを生成します。"
   ]
  },
  {
   "cell_type": "markdown",
   "metadata": {},
   "source": [
    "##### 構文"
   ]
  },
  {
   "cell_type": "markdown",
   "metadata": {},
   "source": [
    "```javascript\n",
    "var textNode = document.createTextNode(\"テキストの例\");\n",
    "```"
   ]
  },
  {
   "cell_type": "markdown",
   "metadata": {},
   "source": [
    "----\n",
    "以下で、実際にDOM APIを使ってみましょう。"
   ]
  },
  {
   "cell_type": "markdown",
   "metadata": {},
   "source": [
    "#### 例3-1"
   ]
  },
  {
   "cell_type": "markdown",
   "metadata": {},
   "source": [
    "innerHTMLを用いて、<span style=\"background-color: #F5F5F5; padding: 2px; margin: 2px; border-radius: 2px; border: 1px solid black;\">&lt;p&gt;</span>要素の内容を消してみましょう。"
   ]
  },
  {
   "cell_type": "markdown",
   "metadata": {},
   "source": [
    "<p style=\"padding-left: 10px\"><em>sample3-1.html</em></p>\n",
    "```html\n",
    "<!DOCTYPE html>\n",
    "<html lang=\"en\">\n",
    "\n",
    "<head>\n",
    "    <meta charset=\"UTF-8\">\n",
    "    <title>Access DOM API Sample</title>\n",
    "</head>\n",
    "\n",
    "<body>\n",
    "    <p id=\"message\">Hello, world</p>\n",
    "    <script type=\"text/javascript\" src=\"./sample3-1.js\"></script>\n",
    "</body>\n",
    "\n",
    "</html>\n",
    "```"
   ]
  },
  {
   "cell_type": "markdown",
   "metadata": {},
   "source": [
    "```javascript\n",
    "var paragraph = document.getElementById(\"message\");\n",
    "paragraph.innerHTML = \"\";\n",
    "```"
   ]
  },
  {
   "cell_type": "markdown",
   "metadata": {},
   "source": [
    "JavaScriptが実行される前"
   ]
  },
  {
   "cell_type": "markdown",
   "metadata": {},
   "source": [
    "```html\n",
    "<p id=\"message\">Hello, world</p>\n",
    "```"
   ]
  },
  {
   "cell_type": "markdown",
   "metadata": {},
   "source": [
    "JavaScriptが実行された後"
   ]
  },
  {
   "cell_type": "markdown",
   "metadata": {},
   "source": [
    "```html\n",
    "<p id=\"message\"></p>\n",
    "```"
   ]
  },
  {
   "cell_type": "markdown",
   "metadata": {},
   "source": [
    "#### 例3-2"
   ]
  },
  {
   "cell_type": "markdown",
   "metadata": {},
   "source": [
    "文字列を表示させてみましょう。以下のHTMLは、*sample3-1.html* の&lt;body&gt;要素内を変更したものです。"
   ]
  },
  {
   "cell_type": "markdown",
   "metadata": {},
   "source": [
    "<p style=\"padding-left: 10px\"><em>sample3-2.html (抜粋)</em></p>\n",
    "```html\n",
    "<script type=\"text/javascript\" src=\"./sample3-2.js\"></script>\n",
    "```"
   ]
  },
  {
   "cell_type": "markdown",
   "metadata": {},
   "source": [
    "<p style=\"padding-left: 10px\"><em>sample3-2.js</em></p>\n",
    "```javascript\n",
    "var paragraph = document.createElement(\"p\");\n",
    "var content = document.createTextNode(\"Hello, world\");\n",
    "paragraph.appendChild(content);\n",
    "```"
   ]
  },
  {
   "cell_type": "markdown",
   "metadata": {},
   "source": [
    "JavaScriptが実行される前"
   ]
  },
  {
   "cell_type": "markdown",
   "metadata": {},
   "source": [
    "```\n",
    "(何も表示されない)\n",
    "```"
   ]
  },
  {
   "cell_type": "markdown",
   "metadata": {},
   "source": [
    "JavaScriptが実行された後"
   ]
  },
  {
   "cell_type": "markdown",
   "metadata": {},
   "source": [
    "```html\n",
    "<p>Hello, world</p>\n",
    "```"
   ]
  },
  {
   "cell_type": "markdown",
   "metadata": {},
   "source": [
    "#### 例3-3"
   ]
  },
  {
   "cell_type": "markdown",
   "metadata": {},
   "source": [
    "複数の<span style=\"background-color: #F5F5F5; padding: 2px; margin: 2px; border-radius: 2px; border: 1px solid black;\">&lt;p&gt;</span>要素を作成しましょう。"
   ]
  },
  {
   "cell_type": "markdown",
   "metadata": {},
   "source": [
    "内容がImmutable.Listのmessagesで決まっているとします。何度も書く手間を省くために、要素を作成する作業を関数化します。messagesの各要素について関数を呼び出して表示しましょう。"
   ]
  },
  {
   "cell_type": "markdown",
   "metadata": {},
   "source": [
    "<p style=\"padding-left: 10px\"><em>sample3-3.html (抜粋)</em></p>\n",
    "```html\n",
    "<div id=\"messages\"></div>\n",
    "<script src=\"https://cdnjs.cloudflare.com/ajax/libs/immutable/3.8.1/immutable.min.js\"></script>\n",
    "<script type=\"text/javascript\" src=\"./sample3-2.js\"></script>\n",
    "```"
   ]
  },
  {
   "cell_type": "markdown",
   "metadata": {},
   "source": [
    "<p style=\"padding-left: 10px\"><em>sample3-3.js</em></p>\n",
    "```javascript\n",
    "function createMessageElement(chat) {\n",
    "    var message = document.createElement(\"p\");\n",
    "    var content = document.createTextNode(chat);\n",
    "    message.appendChild(content);\n",
    "    return message;\n",
    "}\n",
    "\n",
    "var messages = Immutable.List([\"Hello.\", \"How are you?\"]);\n",
    "\n",
    "var messageBody = document.getElementById(\"messages\");\n",
    "\n",
    "messages.forEach(function (message) {\n",
    "    messageBody.appendChild(message);\n",
    "});\n",
    "```"
   ]
  },
  {
   "cell_type": "markdown",
   "metadata": {},
   "source": [
    "JavaScriptが実行される前"
   ]
  },
  {
   "cell_type": "markdown",
   "metadata": {},
   "source": [
    "```html\n",
    "<div id=\"messages\"></div>\n",
    "```"
   ]
  },
  {
   "cell_type": "markdown",
   "metadata": {},
   "source": [
    "JavaScriptが実行された後"
   ]
  },
  {
   "cell_type": "markdown",
   "metadata": {},
   "source": [
    "```html\n",
    "<div id=\"messages\"><p>Hello.</p><p>How are you?</p></div>\n",
    "```"
   ]
  },
  {
   "cell_type": "markdown",
   "metadata": {},
   "source": [
    "### §3のチェックポイント"
   ]
  },
  {
   "cell_type": "markdown",
   "metadata": {},
   "source": [
    "1. DOM APIを使うことで、何ができるようになるか。\n",
    "1. DOM APIのdocument.getElementById()では、何ができるか。\n",
    "1. DOM APIを使って、順序なしリストを表示するにはどうすればよいか。"
   ]
  },
  {
   "cell_type": "markdown",
   "metadata": {},
   "source": [
    "### 演習3"
   ]
  },
  {
   "cell_type": "markdown",
   "metadata": {},
   "source": [
    "<p style=\"background-color: #ffebee; padding: 5px 10px 5px 10px; margin: 10px 2px 10px 0px; border-radius: 2px; border: 1px solid #ffcdd2;\">本演習課題では、HTMLファイルとJSファイルの2種類を作成する。両方のファイルが作成できたら、実行例と同様の結果が表示されているかを確認し、Firefoxの開発ツールを用いてエラーが起きていないかを確認せよ。</p>"
   ]
  },
  {
   "cell_type": "markdown",
   "metadata": {},
   "source": [
    "#### 演習3-1.     "
   ]
  },
  {
   "cell_type": "markdown",
   "metadata": {},
   "source": [
    "以下のHTMLの&lt;p&gt;要素に対して、テキストの文字数を表示するJavaScriptファイルを作成せよ。JavaScriptファイルは *学籍番号-ex-3-1.js* として保存し、HTMLファイルは&lt;script&gt;要素のsrc属性の値を適切に変更した上で、*学籍番号-ex-3-1.html* として保存せよ。"
   ]
  },
  {
   "cell_type": "markdown",
   "metadata": {},
   "source": [
    "```html\n",
    "<!DOCTYPE html>\n",
    "<html lang=\"ja\">\n",
    "\n",
    "<head>\n",
    "    <meta charset=\"UTF-8\">\n",
    "    <title>演習課題</title>\n",
    "</head>\n",
    "\n",
    "<body>\n",
    "    <p id=\"passage\">そのころわたくしは、モリーオ市の博物局に勤めて居りました。十八等官でしたから役所のなかでも、ずうっと下の方でしたし俸給ほうきゅうもほんのわずかでしたが、受持ちが標本の採集や整理で生れ付き好きなことでしたから、わたくしは毎日ずいぶん愉快にはたらきました。殊にそのころ、モリーオ市では競馬場を植物園に拵こしらえ直すというので、その景色のいいまわりにアカシヤを植え込んだ広い地面が、切符売場や信号所の建物のついたまま、わたくしどもの役所の方へまわって来たものですから、わたくしはすぐ宿直という名前で月賦で買った小さな蓄音器と二十枚ばかりのレコードをもって、その番小屋にひとり住むことになりました。わたくしはそこの馬を置く場所に板で小さなしきいをつけて一疋の山羊を飼いました。毎朝その乳をしぼってつめたいパンをひたしてたべ、それから黒い革のかばんへすこしの書類や雑誌を入れ、靴もきれいにみがき、並木のポプラの影法師を大股にわたって市の役所へ出て行くのでした。あのイーハトーヴォのすきとおった風、夏でも底に冷たさをもつ青いそら、うつくしい森で飾られたモリーオ市、郊外のぎらぎらひかる草の波。またそのなかでいっしょになったたくさんのひとたち、ファゼーロとロザーロ、羊飼のミーロや、顔の赤いこどもたち、地主のテーモ、山猫博士のボーガント・デストゥパーゴなど、いまこの暗い巨きな石の建物のなかで考えていると、みんなむかし風のなつかしい青い幻燈のように思われます。では、わたくしはいつかの小さなみだしをつけながら、しずかにあの年のイーハトーヴォの五月から十月までを書きつけましょう。</p>\n",
    "    <script src=\"https://cdnjs.cloudflare.com/ajax/libs/immutable/3.8.1/immutable.min.js\"></script>\n",
    "    <script type=\"text/javascript\" src=\"./s12xxxxx-ex3-1.js\"></script>\n",
    "</body>\n",
    "\n",
    "</html>\n",
    "```"
   ]
  },
  {
   "cell_type": "markdown",
   "metadata": {},
   "source": [
    "実行例（\"Word count is\"のあとの文字数表示は隠してある）"
   ]
  },
  {
   "cell_type": "markdown",
   "metadata": {},
   "source": [
    "![演習3-1の例](https://github.com/motxx/botter-text/blob/master/images/ex3-1-wordcount.png?raw=true　演習3-1の例)"
   ]
  },
  {
   "cell_type": "markdown",
   "metadata": {},
   "source": [
    "#### 演習3-2.     "
   ]
  },
  {
   "cell_type": "markdown",
   "metadata": {},
   "source": [
    "次のような、会話の履歴がある。\n",
    ">「あなたは安藤咲さんですか。」    \n",
    "「はい。咲と呼んでください。」    \n",
    "「咲さんは柔道部員ですか。」    \n",
    "「はい、そうです。」\n",
    "\n",
    "この会話の履歴の最新の時刻に行われた発言が一番上にくるように表示させたい。会話の履歴をこの順で配列に入れ、後ろから順にリストとして表示せよ。"
   ]
  },
  {
   "cell_type": "markdown",
   "metadata": {},
   "source": [
    "----\n",
    "HTMLファイルは、以下のものを&lt;script&gt;要素のsrc属性の値のみ変更して、そのまま利用する。これを *学籍番号-ex-3-2.html* として保存する。JavaScriptファイルは *学籍番号-ex-3-2.js* として保存する。"
   ]
  },
  {
   "cell_type": "markdown",
   "metadata": {},
   "source": [
    "```html\n",
    "<!DOCTYPE html>\n",
    "<html lang=\"ja\">\n",
    "\n",
    "<head>\n",
    "    <meta charset=\"UTF-8\">\n",
    "    <title>演習課題</title>\n",
    "</head>\n",
    "\n",
    "<body>\n",
    "    <script src=\"https://cdnjs.cloudflare.com/ajax/libs/immutable/3.8.1/immutable.min.js\"></script>\n",
    "    <script type=\"text/javascript\" src=\"./s12xxxxx-ex3-2.js\"></script>\n",
    "</body>\n",
    "\n",
    "</html>\n",
    "```"
   ]
  },
  {
   "cell_type": "markdown",
   "metadata": {},
   "source": [
    "JavaScriptファイルは、以下の仕様に従う。\n",
    "- Immutable.Listとして chatMessages=[\"あなたは安藤咲さんですか。\",\"はい。咲と呼んでください。\",\"咲さんは柔道部員ですか。\",\"はい、そうです。\"] を宣言する。\n",
    "- &lt;ul&gt;要素の中に、chatMessages の要素を後ろから順に&lt;li&gt;要素を用いて表示する。\n",
    "\n",
    "##### ヒント\n",
    "- リストを反転するメソッドは何か。\n",
    "- リストの各要素に指定した関数を適用するには何を使えばよいか。\n",
    "- リストから各要素を取得する関数は関数は何か。"
   ]
  },
  {
   "cell_type": "markdown",
   "metadata": {},
   "source": [
    "実行例"
   ]
  },
  {
   "cell_type": "markdown",
   "metadata": {},
   "source": [
    "![演習3-2の実行例](https://github.com/motxx/botter-text/blob/master/images/ex-sample-output-3-2.png?raw=true 演習3-2の実行例)"
   ]
  }
 ],
 "metadata": {
  "kernelspec": {
   "display_name": "NodeJS",
   "language": "javascript",
   "name": "nodejs"
  },
  "language_info": {
   "codemirror_mode": "javascript",
   "file_extension": "js",
   "mimetype": "text/javascript",
   "name": "nodejs",
   "pygments_lexer": "javascript",
   "version": "0.10"
  }
 },
 "nbformat": 4,
 "nbformat_minor": 0
}
