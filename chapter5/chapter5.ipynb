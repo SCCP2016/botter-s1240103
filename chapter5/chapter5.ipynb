{
 "cells": [
  {
   "cell_type": "markdown",
   "metadata": {},
   "source": [
    "## §5. localStorageを使おう"
   ]
  },
  {
   "cell_type": "markdown",
   "metadata": {},
   "source": [
    "localStorageとは、ブラウザ上にユーザーが持つデータを保持しておく事が出来る仕組みの事です。Cookieと異なってくる点は、http通信が発生せず、あくまでもユーザーのローカルにあるブラウザで、JavaScriptから参照され動作するという点です。Webサービスを設計するにあたり、どうしてもユーザーが入力した情報をweb上で保持しておきたい事があります。そんな時にlocalStorageを用いる事で、サーバーを用いずにユーザーそれぞれのローカル環境にデータを保持しておく事が出来ます。"
   ]
  },
  {
   "cell_type": "markdown",
   "metadata": {},
   "source": [
    "##### localStorageに値を保存する"
   ]
  },
  {
   "cell_type": "markdown",
   "metadata": {},
   "source": [
    "```javascript\n",
    "// 以下の2行は同義\n",
    "localStorage.setItem(\"count\", 1234);\n",
    "localStorage.count = 1234;\n",
    "```"
   ]
  },
  {
   "cell_type": "markdown",
   "metadata": {},
   "source": [
    "##### localStorageから値を取得する"
   ]
  },
  {
   "cell_type": "markdown",
   "metadata": {},
   "source": [
    "```javascript\n",
    "// 以下の2行は同義\n",
    "var value = localStorage.getItem(\"count\", 1234);\n",
    "var value = localStorage.count;\n",
    "```"
   ]
  },
  {
   "cell_type": "markdown",
   "metadata": {},
   "source": [
    "### §5のチェックポイント"
   ]
  },
  {
   "cell_type": "markdown",
   "metadata": {},
   "source": [
    "1. localStorageはどのような場合に使うのが適しているか。また、どのような場合は使うべきではないか。\n",
    "1. localStorageに値を保存するにはどうすればよいか。逆に、localStorageから値を取得するにはどうすればよいか。"
   ]
  },
  {
   "cell_type": "markdown",
   "metadata": {},
   "source": [
    "### 演習5"
   ]
  },
  {
   "cell_type": "markdown",
   "metadata": {},
   "source": [
    "localStorageを使用して、ブラウザを開いた回数表示するカウンタを作れ。初期値は1で、ブラウザを更新するたびに1ずつ増えるものとする。"
   ]
  },
  {
   "cell_type": "markdown",
   "metadata": {},
   "source": [
    "実行例（ブラウザを3回更新したときの表示）"
   ]
  },
  {
   "cell_type": "markdown",
   "metadata": {},
   "source": [
    "![ブラウザを3回更新したときの表示](https://github.com/motxx/botter-text/blob/master/images/ex5-local-storage-counter.png?raw=true)"
   ]
  }
 ],
 "metadata": {
  "kernelspec": {
   "display_name": "NodeJS",
   "language": "javascript",
   "name": "nodejs"
  },
  "language_info": {
   "codemirror_mode": "javascript",
   "file_extension": "js",
   "mimetype": "text/javascript",
   "name": "nodejs",
   "pygments_lexer": "javascript",
   "version": "0.10"
  }
 },
 "nbformat": 4,
 "nbformat_minor": 0
}
