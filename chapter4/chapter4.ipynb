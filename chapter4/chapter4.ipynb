{
 "cells": [
  {
   "cell_type": "markdown",
   "metadata": {},
   "source": [
    "## §4. EventListenerを使おう"
   ]
  },
  {
   "cell_type": "markdown",
   "metadata": {},
   "source": [
    "マウスの操作、キーボードの操作、Webページが読み込まれたときなど、様々な動作のタイミングを**イベント**といいます。イベントが起きることを、イベントが発火するとか、イベントが発行される、などといいます。"
   ]
  },
  {
   "cell_type": "markdown",
   "metadata": {},
   "source": [
    "イベントを発行するものを**EventTarget**といい、イベントを受けて実行したい処理を記述する関数を**イベントハンドラ**といいます。イベントハンドラを処理する仕組みのことを**EventListener**といいます。"
   ]
  },
  {
   "cell_type": "markdown",
   "metadata": {},
   "source": [
    "<p style=\"background-color: #E3F2FD; padding: 5px 10px 5px 10px; margin: 10px 2px 10px 0px; border-radius: 2px; border: 1px solid #64B5F6;\">EventTarget.addEventListener(イベントの名前, イベントハンドラ)</p>"
   ]
  },
  {
   "cell_type": "markdown",
   "metadata": {},
   "source": [
    "#### 例4-1"
   ]
  },
  {
   "cell_type": "markdown",
   "metadata": {},
   "source": [
    "Enterキーが入力されたとき、alert()を表示させてみましょう。イベントハンドラに指定した関数には、引数としてそのイベントの情報が渡されます。以下では、イベントハンドラの関数の引数*e*でキー入力イベントの情報を受け取っています。Enterキーのキーコードは13なので、e.keyCode == 13の判定で入力を検知できます。"
   ]
  },
  {
   "cell_type": "markdown",
   "metadata": {},
   "source": [
    "```javascript\n",
    "document.body.addEventListener(\"keydown\", function(e) {\n",
    "    if(e.keyCode == 13) {\n",
    "        alert(\"Enterキーが押されました\");\n",
    "    }\n",
    "});\n",
    "```"
   ]
  },
  {
   "cell_type": "markdown",
   "metadata": {},
   "source": [
    "#### 例4-2"
   ]
  },
  {
   "cell_type": "markdown",
   "metadata": {},
   "source": [
    "<span style=\"background-color: #F5F5F5; padding: 2px; margin: 2px; border-radius: 2px; border: 1px solid black;\">&lt;p&gt;</span>要素の上でマウスをクリックしたとき、alert()を表示させてみましょう。"
   ]
  },
  {
   "cell_type": "markdown",
   "metadata": {},
   "source": [
    "```javascript\n",
    "var paragraph = document.createElement(\"p\");\n",
    "var content = document.createTextNode(\"クリックできます\");\n",
    "paragraph.appendChild(content);\n",
    "paragraph.addEventListener(\"click\", function() {\n",
    "    alert(\"クリックされました\");\n",
    "});\n",
    "```"
   ]
  },
  {
   "cell_type": "markdown",
   "metadata": {},
   "source": [
    "#### 例4-3"
   ]
  },
  {
   "cell_type": "markdown",
   "metadata": {},
   "source": [
    "イベントハンドラには、名前のある通常の関数と、無名関数のどちらでも指定することができます。"
   ]
  },
  {
   "cell_type": "markdown",
   "metadata": {},
   "source": [
    "```javascript\n",
    "function callback_func() {\n",
    "    alert(\"キー入力を検知しました。\");\n",
    "}\n",
    "\n",
    "document.addEventListener(\"keydown\", callback_func);\n",
    "\n",
    "// 上のコードと、次の行のコードは同等\n",
    "document.addEventListener(\"keydown\", function() { alert(\"キー入力を検知しました。\"); });\n",
    "```"
   ]
  },
  {
   "cell_type": "markdown",
   "metadata": {},
   "source": [
    "イベントには以下のようなものがあります。"
   ]
  },
  {
   "cell_type": "markdown",
   "metadata": {},
   "source": [
    "|イベント名|発行されるタイミング|\n",
    "|:-:|:-:|\n",
    "|click|クリックを検知する|\n",
    "|mouseover|マウスポインタがEventTargetに乗ったとき|\n",
    "|keydown|キーが押されたことを検知する|\n",
    "|load|Webページの読み込みがすべて完了したとき|\n",
    "|change|フォームの入力値、選択が変更されたとき|"
   ]
  },
  {
   "cell_type": "markdown",
   "metadata": {},
   "source": [
    "コラム1：document.body.onclick = function() { alert(\"クリックされました\"); } と記述することもできますが、この場合、イベントに対してイベントハンドラの数は最大1つまでしか指定できません。使用しているライブラリなどが既にそのイベントにイベントハンドラを指定している場合、情報が上書きされてしまいます。それに対し、addEventListener()では、イベントに対して複数のイベントハンドラを登録できます。なので、常にaddEventListener()を使うようにしましょう。"
   ]
  },
  {
   "cell_type": "markdown",
   "metadata": {},
   "source": [
    "コラム2： EventTarget.addEventListener()があるのと同様に、EventTarget.removeEventListener()も存在します。"
   ]
  },
  {
   "cell_type": "markdown",
   "metadata": {},
   "source": [
    "### §4のチェックポイント"
   ]
  },
  {
   "cell_type": "markdown",
   "metadata": {},
   "source": [
    "1. イベントとは何か。\n",
    "1. イベントハンドラには、どのような関数を指定できるか。\n",
    "1. EventListenerとか何か。それはどのように使うか。"
   ]
  },
  {
   "cell_type": "markdown",
   "metadata": {},
   "source": [
    "### 演習4"
   ]
  },
  {
   "cell_type": "markdown",
   "metadata": {},
   "source": [
    "EventListenerを利用して、入力した文字列をリストに表示していくコードを書け。"
   ]
  }
 ],
 "metadata": {
  "kernelspec": {
   "display_name": "NodeJS",
   "language": "javascript",
   "name": "nodejs"
  },
  "language_info": {
   "codemirror_mode": "javascript",
   "file_extension": "js",
   "mimetype": "text/javascript",
   "name": "nodejs",
   "pygments_lexer": "javascript",
   "version": "0.10"
  }
 },
 "nbformat": 4,
 "nbformat_minor": 0
}
